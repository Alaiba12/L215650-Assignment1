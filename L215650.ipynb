{
  "nbformat": 4,
  "nbformat_minor": 0,
  "metadata": {
    "colab": {
      "provenance": [],
      "collapsed_sections": []
    },
    "kernelspec": {
      "name": "python3",
      "display_name": "Python 3"
    },
    "language_info": {
      "name": "python"
    }
  },
  "cells": [
    {
      "cell_type": "markdown",
      "source": [
        "---\n",
        "## Question 1\n",
        "---"
      ],
      "metadata": {
        "id": "arB_0r9H0jjC"
      }
    },
    {
      "cell_type": "markdown",
      "source": [
        "9Define a procedure called \"check_input\" that takes an input as a square list of lists (2D Matrix of N x N) and returns a boolen \"true\" if the input is valid or \"false\" otherwise, according to the following criteria.\n",
        "\n",
        "1. Each coloumn must contain numbers from between 1 and N, with no duplicates.\n",
        "2. Each row must contain numbers from between 1 and N, with no duplicates."
      ],
      "metadata": {
        "id": "qHPTNDy30n99"
      }
    },
    {
      "cell_type": "code",
      "source": [
        "import numpy as np"
      ],
      "metadata": {
        "id": "23e5v0kCpt1q"
      },
      "execution_count": null,
      "outputs": []
    },
    {
      "cell_type": "code",
      "source": [
        "# define procedure here\n",
        "def check_input(L):\n",
        "  for j in range(len(L)):\n",
        "     L1 = L[j].copy();\n",
        "     L1.sort();\n",
        "     for i in range(len(L[j])):\n",
        "       if L1[i] != i+1:\n",
        "           return False\n",
        "\n",
        "  L4 = np.array(L)\n",
        "  L4_t = L4.transpose()\n",
        "  for j in range(len(L)):\n",
        "     L4_t = L[j].copy();\n",
        "     L4_t.sort();\n",
        "     for i in range(len(L[j])):\n",
        "       if L4_t[i] != i+1:\n",
        "           return False   \n",
        "           \n",
        "  return True"
      ],
      "metadata": {
        "id": "xSHGvEGLZy6Z"
      },
      "execution_count": null,
      "outputs": []
    },
    {
      "cell_type": "code",
      "source": [
        "# run this block to test code after defining the procedure\n",
        "\n",
        "test1 = [[1, 2, 3],\n",
        "        [2, 3, 1],\n",
        "        [3, 1, 2]]\n",
        "\n",
        "test2 = [[1, 2, 3, 4],\n",
        "        [2, 3, 1, 3],\n",
        "        [3, 1, 2, 3],\n",
        "        [4, 4, 4, 4]]\n",
        "\n",
        "test3 = [['a', 'b', 'c'],\n",
        "        ['b', 'c', 'a'],\n",
        "        ['c', 'a', 'b']]\n",
        "\n",
        "print(check_input(test1)) # must return true\n",
        "print(check_input(test2)) # must return false\n",
        "print(check_input(test3)) # must return false"
      ],
      "metadata": {
        "id": "wdL9MWgq2ZbP",
        "outputId": "403d6a2b-3fe6-4ffb-fefe-17a4247f54e5",
        "colab": {
          "base_uri": "https://localhost:8080/"
        }
      },
      "execution_count": null,
      "outputs": [
        {
          "output_type": "stream",
          "name": "stdout",
          "text": [
            "True\n",
            "False\n",
            "False\n"
          ]
        }
      ]
    },
    {
      "cell_type": "markdown",
      "source": [
        "---\n",
        "## Question 2\n",
        "---"
      ],
      "metadata": {
        "id": "4RVTlnhWqOUC"
      }
    },
    {
      "cell_type": "markdown",
      "source": [
        "**Part A** - Import the file \"StudentMarkSheet.csv\" as a Pandas DataFrame and print the information for the dataframe"
      ],
      "metadata": {
        "id": "Uyc7JPtNt0pR"
      }
    },
    {
      "cell_type": "code",
      "source": [
        "import pandas as pd\n",
        "data = pd.read_csv(\"/StudentMarkSheet.csv\")\n",
        "print(data.info())"
      ],
      "metadata": {
        "colab": {
          "base_uri": "https://localhost:8080/"
        },
        "id": "3Q6xkS9cshaA",
        "outputId": "41cfc0d8-dba7-40df-bf8e-56849156d7ef"
      },
      "execution_count": 96,
      "outputs": [
        {
          "output_type": "stream",
          "name": "stdout",
          "text": [
            "<class 'pandas.core.frame.DataFrame'>\n",
            "RangeIndex: 200 entries, 0 to 199\n",
            "Data columns (total 4 columns):\n",
            " #   Column        Non-Null Count  Dtype  \n",
            "---  ------        --------------  -----  \n",
            " 0   Student name  200 non-null    object \n",
            " 1   Exam name     199 non-null    object \n",
            " 2   Exam date     200 non-null    object \n",
            " 3   Marks         197 non-null    float64\n",
            "dtypes: float64(1), object(3)\n",
            "memory usage: 6.4+ KB\n",
            "None\n"
          ]
        }
      ]
    },
    {
      "cell_type": "markdown",
      "source": [
        "**Part B** - Remove any rows that do not contain all the data. Also print the following information.\n",
        "\n",
        "1. Number of rows before\n",
        "2. Number of rows containing null data\n",
        "3. Number of rows after"
      ],
      "metadata": {
        "id": "jIaMvgcft_i0"
      }
    },
    {
      "cell_type": "code",
      "source": [
        "print(\"Total rows : \", len(data.index))\n",
        "nullData = data[data.isnull().any(axis=1)]\n",
        "print(\"Number of null rows : \", len(nullData.index))\n",
        "\n",
        "\n",
        "data = data.dropna()\n",
        "print(\"Total rows : \", len(data.index))"
      ],
      "metadata": {
        "id": "_ov_SWdxuZUm",
        "colab": {
          "base_uri": "https://localhost:8080/"
        },
        "outputId": "1c0bc13c-1ad2-4f83-faac-0efdea03f592"
      },
      "execution_count": 65,
      "outputs": [
        {
          "output_type": "stream",
          "name": "stdout",
          "text": [
            "Total rows :  200\n",
            "Number of null rows :  4\n",
            "Total rows :  196\n"
          ]
        }
      ]
    },
    {
      "cell_type": "markdown",
      "source": [
        "**Part C** - Print all the marks along with the subject for the student named \"James Walker\""
      ],
      "metadata": {
        "id": "2kd9zAX6wkXM"
      }
    },
    {
      "cell_type": "code",
      "source": [
        "data1 = data.loc[data['Student name'] == \"James Walker\"]\n",
        "data2 = data1[['Exam name','Marks']]\n",
        "print(data2)"
      ],
      "metadata": {
        "id": "N0HWJN-PwuSo",
        "colab": {
          "base_uri": "https://localhost:8080/"
        },
        "outputId": "905ced08-0647-4ea5-dab1-649cef39cf17"
      },
      "execution_count": null,
      "outputs": [
        {
          "output_type": "stream",
          "name": "stdout",
          "text": [
            "       Exam name  Marks\n",
            "0        Biology   31.0\n",
            "42     Chemistry   61.0\n",
            "71   Mathematics   23.0\n",
            "150      Physics  100.0\n",
            "180    Sociology   73.0\n"
          ]
        }
      ]
    },
    {
      "cell_type": "markdown",
      "source": [
        "---\n",
        "## Question 3\n",
        "---"
      ],
      "metadata": {
        "id": "ts8Y1EXmwzhf"
      }
    },
    {
      "cell_type": "markdown",
      "source": [
        "**Part A** - From the DataFrame created in Question 2, calculate the average marks for each subject"
      ],
      "metadata": {
        "id": "PJENm_hpw3GQ"
      }
    },
    {
      "cell_type": "code",
      "source": [
        "bio = data.loc[data['Exam name'] == \"Biology\"]\n",
        "bio_marks = bio['Marks']\n",
        "numberOfbio = len(bio.index)\n",
        "sumBioMarks =  bio_marks.sum()\n",
        "Average_Bio = sumBioMarks/numberOfbio\n",
        "print(\"Average marks for Biology are : \" , Average_Bio) \n",
        "\n",
        "\n",
        "chem = data.loc[data['Exam name'] == \"Chemistry\"]\n",
        "chem_marks = chem['Marks']\n",
        "numberOfchem = len(chem.index)\n",
        "sumChemMarks =  chem_marks.sum()\n",
        "Average_Chem = sumChemMarks/numberOfchem\n",
        "print(\"Average marks for Chemistry are : \" , Average_Chem) \n",
        "\n",
        "\n",
        "math = data.loc[data['Exam name'] == \"Mathematics\"]\n",
        "math_marks = math['Marks']\n",
        "numberOfmath = len(math.index)\n",
        "sumMathMarks =  math_marks.sum()\n",
        "Average_Math = sumMathMarks/numberOfmath\n",
        "print(\"Average marks for Mathematics are : \" , Average_Math) \n",
        "\n",
        "\n",
        "phi = data.loc[data['Exam name'] == \"Philosophy\"]\n",
        "phi_marks = phi['Marks']\n",
        "numberOfphi = len(phi.index)\n",
        "sumPhiMarks =  phi_marks.sum()\n",
        "Average_Phi = sumPhiMarks/numberOfphi\n",
        "print(\"Average marks for Philosophy are : \" , Average_Phi) \n",
        "\n",
        "\n",
        "phy = data.loc[data['Exam name'] == \"Physics\"]\n",
        "phy_marks = phy['Marks']\n",
        "numberOfphy = len(phy.index)\n",
        "sumPhyMarks =  phy_marks.sum()\n",
        "Average_Phy = sumPhyMarks/numberOfphy\n",
        "print(\"Average marks for Physics are : \" , Average_Phy) \n",
        "\n",
        "\n",
        "\n",
        "soc = data.loc[data['Exam name'] == \"Sociology\"]\n",
        "soc_marks = soc['Marks']\n",
        "numberOfsoc = len(soc.index)\n",
        "sumSocMarks =  soc_marks.sum()\n",
        "Average_Soc = sumSocMarks/numberOfsoc\n",
        "print(\"Average marks for Sociology are : \" , Average_Soc) \n",
        "\n",
        "\n",
        "\n",
        "\n"
      ],
      "metadata": {
        "id": "AxhCtST5xS3L",
        "colab": {
          "base_uri": "https://localhost:8080/"
        },
        "outputId": "85cd45e1-aa18-4e88-9f8b-8f9ea940cf6e"
      },
      "execution_count": 54,
      "outputs": [
        {
          "output_type": "stream",
          "name": "stdout",
          "text": [
            "Average marks for Biology are :  47.89473684210526\n",
            "Average marks for Chemistry are :  50.57692307692308\n",
            "Average marks for Mathematics are :  48.97222222222222\n",
            "Average marks for Philosophy are :  47.270270270270274\n",
            "Average marks for Physics are :  51.76190476190476\n",
            "Average marks for Sociology are :  56.026315789473685\n"
          ]
        }
      ]
    },
    {
      "cell_type": "markdown",
      "source": [
        "**Part B** - Using the averages you just calculated, plot a Bar Graph showing the average marks of each subject"
      ],
      "metadata": {
        "id": "NDlaA7hHxUBc"
      }
    },
    {
      "cell_type": "code",
      "source": [
        "import matplotlib.pyplot as plt\n",
        "import numpy as np\n",
        "\n",
        "x = np.array([\"Biology\" , \"Chemistry\" , \"Math\" , \"Philosophy\" , \"Physics\" , \"Sociology\"])\n",
        "y = np.array([Average_Bio , Average_Chem , Average_Math , Average_Phi , Average_Phy , Average_Soc])\n",
        "plt.xlabel(\"Subjects\")\n",
        "plt.ylabel(\"Averages\")\n",
        "\n",
        "\n",
        "plt.bar(x,y)\n",
        "plt.show()"
      ],
      "metadata": {
        "id": "LWoPFZBOyyNn",
        "colab": {
          "base_uri": "https://localhost:8080/",
          "height": 279
        },
        "outputId": "4131f861-5198-41ac-edd2-8b6cca4f1520"
      },
      "execution_count": 94,
      "outputs": [
        {
          "output_type": "display_data",
          "data": {
            "text/plain": [
              "<Figure size 432x288 with 1 Axes>"
            ],
            "image/png": "[encoded data removed]"
          },
          "metadata": {
            "needs_background": "light"
          }
        }
      ]
    },
    {
      "cell_type": "markdown",
      "source": [
        "---\n",
        "## Question 4\n",
        "---"
      ],
      "metadata": {
        "id": "dWlOSOIs6d1R"
      }
    },
    {
      "cell_type": "markdown",
      "source": [
        "**Part A** - Import the file \"CatData.csv\" and preprocess it to remove any null values"
      ],
      "metadata": {
        "id": "b4s-pN4v6kgb"
      }
    },
    {
      "cell_type": "code",
      "source": [
        "import pandas as pd\n",
        "import numpy as np\n",
        "import matplotlib.pyplot as plt\n",
        "from sklearn import linear_model\n",
        "\n",
        "data = pd.read_csv(\"/CatData.csv\")\n",
        "data = data.dropna()"
      ],
      "metadata": {
        "id": "mvZ3xrBV9b1s"
      },
      "execution_count": 78,
      "outputs": []
    },
    {
      "cell_type": "markdown",
      "source": [
        "**Part B** - Identify the independant and dependant variables (comment answer below)"
      ],
      "metadata": {
        "id": "bWxuB3ep9SWA"
      }
    },
    {
      "cell_type": "code",
      "source": [
        "# dependant variable: Mass\n",
        "# independant variable: Tail Length "
      ],
      "metadata": {
        "id": "TS9tvuRt9cWr"
      },
      "execution_count": 79,
      "outputs": []
    },
    {
      "cell_type": "markdown",
      "source": [
        "**Part C** - Create a linear regression model using sklearn and fit it to the data you just imported\n"
      ],
      "metadata": {
        "id": "xPHVA3cX7uk9"
      }
    },
    {
      "cell_type": "code",
      "source": [
        "num = int(len(data)*80)\n",
        "train = data[:num]\n",
        "test = data[num:]\n",
        "\n",
        "\n",
        "regr =  linear_model.LinearRegression()\n",
        "\n",
        "train_x =  np.array(train[[\"Tail Length (cm)\"]])\n",
        "train_y =  np.array(train[[\"Mass (kg)\"]])\n",
        "regr.fit(train_x , train_y)\n"
      ],
      "metadata": {
        "id": "WYVNRotH9cyo",
        "colab": {
          "base_uri": "https://localhost:8080/"
        },
        "outputId": "6c28c164-8844-4d82-f9ad-1c25f3b695da"
      },
      "execution_count": 80,
      "outputs": [
        {
          "output_type": "execute_result",
          "data": {
            "text/plain": [
              "LinearRegression()"
            ]
          },
          "metadata": {},
          "execution_count": 80
        }
      ]
    },
    {
      "cell_type": "markdown",
      "source": [
        "**Part D** - Print the values for slope and y-intercept"
      ],
      "metadata": {
        "id": "0QMipKhb830G"
      }
    },
    {
      "cell_type": "code",
      "source": [
        "slope = regr.coef_\n",
        "intercept = regr.intercept_\n",
        "print(\"Slope is : \" , slope)\n",
        "print(\"Intercept is : \" , intercept)"
      ],
      "metadata": {
        "id": "R7cvi3KB9dJh",
        "colab": {
          "base_uri": "https://localhost:8080/"
        },
        "outputId": "c27a9668-9561-46da-8b3f-fd0286145e4c"
      },
      "execution_count": 81,
      "outputs": [
        {
          "output_type": "stream",
          "name": "stdout",
          "text": [
            "Slope is :  [[0.49685566]]\n",
            "Intercept is :  [-5.78083136]\n"
          ]
        }
      ]
    },
    {
      "cell_type": "markdown",
      "source": [
        "**Part E** - Plot a scatter graph of the original data and a regression line on the same figure (example with dummy data shown below)\n",
        "\n",
        "![](https://drive.google.com/uc?export=view&id=1o_NAsNjfx7zAh9m-UjvWB3rta6uraKdY)"
      ],
      "metadata": {
        "id": "IIq-BQYp_i33"
      }
    },
    {
      "cell_type": "code",
      "source": [
        "plt.scatter(train[\"Tail Length (cm)\"] , train[\"Mass (kg)\"])\n",
        "plt.plot(train[\"Tail Length (cm)\"] , slope[0] * train_x + intercept , color = \"red\")\n",
        "plt.xlabel(\"Tail Length (cm)\")\n",
        "plt.ylabel(\"Mass (kg)\")\n",
        "plt.show()\n"
      ],
      "metadata": {
        "id": "jhz8gTYt_lCn",
        "colab": {
          "base_uri": "https://localhost:8080/",
          "height": 279
        },
        "outputId": "f38cbb9a-0cac-4f68-9d49-fb22eefcd1d7"
      },
      "execution_count": 83,
      "outputs": [
        {
          "output_type": "display_data",
          "data": {
            "text/plain": [
              "<Figure size 432x288 with 1 Axes>"
            ],
            "image/png": "[encoded data removed]"
          },
          "metadata": {
            "needs_background": "light"
          }
        }
      ]
    }
  ]
}